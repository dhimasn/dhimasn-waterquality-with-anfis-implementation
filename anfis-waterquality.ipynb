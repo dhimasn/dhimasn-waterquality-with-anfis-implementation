{
 "cells": [
  {
   "cell_type": "code",
   "execution_count": 2,
   "id": "1811bb9a",
   "metadata": {},
   "outputs": [],
   "source": [
    "#name : Dhimas Nandista\n",
    "#nim : G6501211010\n",
    "\n",
    "import anfis\n",
    "import membership.mfDerivs\n",
    "import membership.membershipfunction\n",
    "import numpy\n",
    "import mysql.connector\n",
    "import pandas as pd\n",
    "import matplotlib.pyplot as plt\n"
   ]
  },
  {
   "cell_type": "code",
   "execution_count": 57,
   "id": "7375852b",
   "metadata": {},
   "outputs": [
    {
     "name": "stdout",
     "output_type": "stream",
     "text": [
      "   suhu zt_tds zt_tss ph  cod nitrat minyak  bk bkt ipc\n",
      "0    24     80     24  7    7      1    386   2   4   6\n",
      "1    24     91     14  7   11      1   3406   5   1   7\n",
      "2    24     99     25  7   10      0    150   8   2   8\n",
      "3    24    118     41  7   29      0    302   8   3   9\n",
      "4    24    169    147  7   26      0    246   2   1  11\n",
      "..  ...    ...    ... ..  ...    ...    ...  ..  ..  ..\n",
      "75   24    209     20  7   59      0    375   1   3  22\n",
      "76   24    124     99  7   10      0     58   3   3   9\n",
      "77   24    123     88  7    9      0   2.04  4    6   9\n",
      "78   24    122     94  7   28      0   1384   2   2   8\n",
      "79   24    314    393  7  337      0   5242   4   1  11\n",
      "\n",
      "[80 rows x 10 columns]\n"
     ]
    }
   ],
   "source": [
    "conn = mysql.connector.connect(host='localhost',\n",
    "                                 database='waterquality',\n",
    "                                 user='root',\n",
    "                                 password='',\n",
    "                                 charset='utf8',\n",
    "                                 use_unicode=True)\n",
    "         \n",
    "if conn.is_connected():\n",
    "    # get records training\n",
    "    sql_select_Query = '''SELECT `Suhu (C)` as suhu,`Zat padat terlarut (TDS) mg/L` as zt_tds, `Zat padat tersuspensi (TSS) mg/L` as zt_tss,`pH` as ph,`COD (dichromat) mg/L` as cod,`Nitrat mg/L` as nitrat,`Minyak dan Lemak Âµg/L` as minyak,`Bakteri Koli Jml/100 mL`as bk,`Bakteri Koli Tinja Jml/100 mL` as bkt, `Indeks Pencemar` as ipc FROM `waterquality_jakarta_training`\n",
    "                             WHERE `periode` = '2018-1' \n",
    "                             AND `Suhu (C)` != \"\"\n",
    "                             AND `Zat padat terlarut (TDS) mg/L` != \"\" \n",
    "                             AND `Zat padat tersuspensi (TSS) mg/L`!= \"\"\n",
    "                             AND `Nitrat mg/L` != \"\"\n",
    "                             AND `Minyak dan Lemak Âµg/L` != \"\"\n",
    "                             AND `Bakteri Koli Jml/100 mL` != \"\"\n",
    "                             AND `Bakteri Koli Tinja Jml/100 mL` != \"\" ;'''\n",
    "    cursor = conn.cursor(buffered=True, dictionary=True)\n",
    "    cursor.execute(sql_select_Query)        \n",
    "    data_training = cursor.fetchall()\n",
    "    #menampilkan data hasil select database\n",
    "    #print(data_training)\n",
    "    df = pd.DataFrame(data_training)\n",
    "    print(df)"
   ]
  },
  {
   "cell_type": "code",
   "execution_count": 59,
   "id": "88e372c3",
   "metadata": {},
   "outputs": [
    {
     "name": "stdout",
     "output_type": "stream",
     "text": [
      "[0      6\n",
      "1      7\n",
      "2      8\n",
      "3      9\n",
      "4     11\n",
      "      ..\n",
      "75    22\n",
      "76     9\n",
      "77     9\n",
      "78     8\n",
      "79    11\n",
      "Name: ipc, Length: 80, dtype: object]\n"
     ]
    },
    {
     "ename": "IndexError",
     "evalue": "tuple index out of range",
     "output_type": "error",
     "traceback": [
      "\u001b[1;31m---------------------------------------------------------------------------\u001b[0m",
      "\u001b[1;31mIndexError\u001b[0m                                Traceback (most recent call last)",
      "\u001b[1;32mC:\\Users\\ASUSPC~1\\AppData\\Local\\Temp/ipykernel_12336/3401361276.py\u001b[0m in \u001b[0;36m<module>\u001b[1;34m\u001b[0m\n\u001b[0;32m     18\u001b[0m \u001b[1;33m\u001b[0m\u001b[0m\n\u001b[0;32m     19\u001b[0m \u001b[0mmfc\u001b[0m \u001b[1;33m=\u001b[0m \u001b[0mmembership\u001b[0m\u001b[1;33m.\u001b[0m\u001b[0mmembershipfunction\u001b[0m\u001b[1;33m.\u001b[0m\u001b[0mMemFuncs\u001b[0m\u001b[1;33m(\u001b[0m\u001b[0mmf\u001b[0m\u001b[1;33m)\u001b[0m\u001b[1;33m\u001b[0m\u001b[1;33m\u001b[0m\u001b[0m\n\u001b[1;32m---> 20\u001b[1;33m \u001b[0manf\u001b[0m \u001b[1;33m=\u001b[0m \u001b[0manfis\u001b[0m\u001b[1;33m.\u001b[0m\u001b[0mANFIS\u001b[0m\u001b[1;33m(\u001b[0m\u001b[0mX\u001b[0m\u001b[1;33m,\u001b[0m \u001b[0mY\u001b[0m\u001b[1;33m,\u001b[0m \u001b[0mmfc\u001b[0m\u001b[1;33m)\u001b[0m\u001b[1;33m\u001b[0m\u001b[1;33m\u001b[0m\u001b[0m\n\u001b[0m\u001b[0;32m     21\u001b[0m \u001b[0manf\u001b[0m\u001b[1;33m.\u001b[0m\u001b[0mtrainHybridJangOffLine\u001b[0m\u001b[1;33m(\u001b[0m\u001b[0mepochs\u001b[0m\u001b[1;33m=\u001b[0m\u001b[1;36m20\u001b[0m\u001b[1;33m)\u001b[0m\u001b[1;33m\u001b[0m\u001b[1;33m\u001b[0m\u001b[0m\n\u001b[0;32m     22\u001b[0m \u001b[0mprint\u001b[0m\u001b[1;33m(\u001b[0m\u001b[0mround\u001b[0m\u001b[1;33m(\u001b[0m\u001b[0manf\u001b[0m\u001b[1;33m.\u001b[0m\u001b[0mconsequents\u001b[0m\u001b[1;33m[\u001b[0m\u001b[1;33m-\u001b[0m\u001b[1;36m1\u001b[0m\u001b[1;33m]\u001b[0m\u001b[1;33m[\u001b[0m\u001b[1;36m0\u001b[0m\u001b[1;33m]\u001b[0m\u001b[1;33m,\u001b[0m\u001b[1;36m6\u001b[0m\u001b[1;33m)\u001b[0m\u001b[1;33m)\u001b[0m\u001b[1;33m\u001b[0m\u001b[1;33m\u001b[0m\u001b[0m\n",
      "\u001b[1;32m~\\Documents\\Python\\kuliah\\waterquality-with-anfis-implementation\\anfis.py\u001b[0m in \u001b[0;36m__init__\u001b[1;34m(self, X, Y, memFunction)\u001b[0m\n\u001b[0;32m     37\u001b[0m         \u001b[0mself\u001b[0m\u001b[1;33m.\u001b[0m\u001b[0mmemFuncs\u001b[0m \u001b[1;33m=\u001b[0m \u001b[0mself\u001b[0m\u001b[1;33m.\u001b[0m\u001b[0mmemClass\u001b[0m\u001b[1;33m.\u001b[0m\u001b[0mMFList\u001b[0m\u001b[1;33m\u001b[0m\u001b[1;33m\u001b[0m\u001b[0m\n\u001b[0;32m     38\u001b[0m         \u001b[0mself\u001b[0m\u001b[1;33m.\u001b[0m\u001b[0mmemFuncsByVariable\u001b[0m \u001b[1;33m=\u001b[0m \u001b[1;33m[\u001b[0m\u001b[1;33m[\u001b[0m\u001b[0mx\u001b[0m \u001b[1;32mfor\u001b[0m \u001b[0mx\u001b[0m \u001b[1;32min\u001b[0m \u001b[0mrange\u001b[0m\u001b[1;33m(\u001b[0m\u001b[0mlen\u001b[0m\u001b[1;33m(\u001b[0m\u001b[0mself\u001b[0m\u001b[1;33m.\u001b[0m\u001b[0mmemFuncs\u001b[0m\u001b[1;33m[\u001b[0m\u001b[0mz\u001b[0m\u001b[1;33m]\u001b[0m\u001b[1;33m)\u001b[0m\u001b[1;33m)\u001b[0m\u001b[1;33m]\u001b[0m \u001b[1;32mfor\u001b[0m \u001b[0mz\u001b[0m \u001b[1;32min\u001b[0m \u001b[0mrange\u001b[0m\u001b[1;33m(\u001b[0m\u001b[0mlen\u001b[0m\u001b[1;33m(\u001b[0m\u001b[0mself\u001b[0m\u001b[1;33m.\u001b[0m\u001b[0mmemFuncs\u001b[0m\u001b[1;33m)\u001b[0m\u001b[1;33m)\u001b[0m\u001b[1;33m]\u001b[0m\u001b[1;33m\u001b[0m\u001b[1;33m\u001b[0m\u001b[0m\n\u001b[1;32m---> 39\u001b[1;33m         \u001b[0mself\u001b[0m\u001b[1;33m.\u001b[0m\u001b[0mrules\u001b[0m \u001b[1;33m=\u001b[0m \u001b[0mnp\u001b[0m\u001b[1;33m.\u001b[0m\u001b[0marray\u001b[0m\u001b[1;33m(\u001b[0m\u001b[0mlist\u001b[0m\u001b[1;33m(\u001b[0m\u001b[0mitertools\u001b[0m\u001b[1;33m.\u001b[0m\u001b[0mproduct\u001b[0m\u001b[1;33m(\u001b[0m\u001b[1;33m*\u001b[0m\u001b[0mself\u001b[0m\u001b[1;33m.\u001b[0m\u001b[0mmemFuncsByVariable\u001b[0m\u001b[1;33m)\u001b[0m\u001b[1;33m)\u001b[0m\u001b[1;33m)\u001b[0m\u001b[1;33m\u001b[0m\u001b[1;33m\u001b[0m\u001b[0m\n\u001b[0m\u001b[0;32m     40\u001b[0m         \u001b[0mself\u001b[0m\u001b[1;33m.\u001b[0m\u001b[0mconsequents\u001b[0m \u001b[1;33m=\u001b[0m \u001b[0mnp\u001b[0m\u001b[1;33m.\u001b[0m\u001b[0mempty\u001b[0m\u001b[1;33m(\u001b[0m\u001b[0mself\u001b[0m\u001b[1;33m.\u001b[0m\u001b[0mY\u001b[0m\u001b[1;33m.\u001b[0m\u001b[0mndim\u001b[0m \u001b[1;33m*\u001b[0m \u001b[0mlen\u001b[0m\u001b[1;33m(\u001b[0m\u001b[0mself\u001b[0m\u001b[1;33m.\u001b[0m\u001b[0mrules\u001b[0m\u001b[1;33m)\u001b[0m \u001b[1;33m*\u001b[0m \u001b[1;33m(\u001b[0m\u001b[0mself\u001b[0m\u001b[1;33m.\u001b[0m\u001b[0mX\u001b[0m\u001b[1;33m.\u001b[0m\u001b[0mshape\u001b[0m\u001b[1;33m[\u001b[0m\u001b[1;36m1\u001b[0m\u001b[1;33m]\u001b[0m \u001b[1;33m+\u001b[0m \u001b[1;36m1\u001b[0m\u001b[1;33m)\u001b[0m\u001b[1;33m)\u001b[0m\u001b[1;33m\u001b[0m\u001b[1;33m\u001b[0m\u001b[0m\n\u001b[0;32m     41\u001b[0m         \u001b[0mself\u001b[0m\u001b[1;33m.\u001b[0m\u001b[0mconsequents\u001b[0m\u001b[1;33m.\u001b[0m\u001b[0mfill\u001b[0m\u001b[1;33m(\u001b[0m\u001b[1;36m0\u001b[0m\u001b[1;33m)\u001b[0m\u001b[1;33m\u001b[0m\u001b[1;33m\u001b[0m\u001b[0m\n",
      "\u001b[1;31mIndexError\u001b[0m: tuple index out of range"
     ]
    }
   ],
   "source": [
    "dataX = [df['zt_tds'], df['zt_tss']]\n",
    "dataY = [df['ipc']]\n",
    "print(dataY)\n",
    "mf = [\n",
    "        [\n",
    "            ['gaussmf',{'mean':0.,'sigma':1.}],\n",
    "            ['gaussmf',{'mean':-1.,'sigma':2.}],\n",
    "            ['gaussmf',{'mean':-4.,'sigma':10.}],\n",
    "            ['gaussmf',{'mean':-7.,'sigma':7.}]\n",
    "        ],\n",
    "        [\n",
    "            ['gaussmf',{'mean':1.,'sigma':2.}],\n",
    "            ['gaussmf',{'mean':2.,'sigma':3.}],\n",
    "            ['gaussmf',{'mean':-2.,'sigma':10.}],\n",
    "            ['gaussmf',{'mean':-10.5,'sigma':5.}]\n",
    "        ]\n",
    "    ]\n",
    "\n",
    "\n",
    "mfc = membership.membershipfunction.MemFuncs(mf)\n",
    "anf = anfis.ANFIS(X, Y, mfc)\n",
    "anf.trainHybridJangOffLine(epochs=20)\n",
    "print(round(anf.consequents[-1][0],6))\n",
    "print(round(anf.consequents[-2][0],6))\n",
    "print(round(anf.fittedValues[9][0],6))\n",
    "if round(anf.consequents[-1][0],6) == -5.275538 and round(anf.consequents[-2][0],6) == -1.990703 and round(anf.fittedValues[9][0],6) == 0.002249:\n",
    "\tprint('test is good')\n",
    "\n",
    "print(\"Plotting errors\")\n",
    "anf.plotErrors()\n",
    "print(\"Plotting results\")\n",
    "anf.plotResults()\n",
    "    "
   ]
  },
  {
   "cell_type": "code",
   "execution_count": null,
   "id": "bdc8e2a9",
   "metadata": {},
   "outputs": [],
   "source": []
  }
 ],
 "metadata": {
  "kernelspec": {
   "display_name": "Python 3 (ipykernel)",
   "language": "python",
   "name": "python3"
  },
  "language_info": {
   "codemirror_mode": {
    "name": "ipython",
    "version": 3
   },
   "file_extension": ".py",
   "mimetype": "text/x-python",
   "name": "python",
   "nbconvert_exporter": "python",
   "pygments_lexer": "ipython3",
   "version": "3.9.7"
  }
 },
 "nbformat": 4,
 "nbformat_minor": 5
}
