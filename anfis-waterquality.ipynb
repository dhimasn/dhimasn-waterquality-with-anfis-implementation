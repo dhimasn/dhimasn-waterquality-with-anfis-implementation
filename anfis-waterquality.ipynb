{
 "cells": [
  {
   "cell_type": "code",
   "execution_count": 3,
   "id": "1811bb9a",
   "metadata": {},
   "outputs": [],
   "source": [
    "#name : Dhimas Nandista\n",
    "#nim : G6501211010\n",
    "\n",
    "import anfis\n",
    "import membership.mfDerivs\n",
    "import membership.membershipfunction\n",
    "import numpy\n",
    "import mysql.connector\n",
    "import pandas as pd\n",
    "import numpy as np\n",
    "import matplotlib.pyplot as plt\n"
   ]
  },
  {
   "cell_type": "code",
   "execution_count": 4,
   "id": "7375852b",
   "metadata": {},
   "outputs": [
    {
     "name": "stdout",
     "output_type": "stream",
     "text": [
      "   suhu zt_tds zt_tss ph  cod nitrat minyak  bk bkt\n",
      "0    24     80     24  7    7      1    386   2   4\n",
      "1    24     91     14  7   11      1   3406   5   1\n",
      "2    24     99     25  7   10      0    150   8   2\n",
      "3    24    118     41  7   29      0    302   8   3\n",
      "4    24    169    147  7   26      0    246   2   1\n",
      "..  ...    ...    ... ..  ...    ...    ...  ..  ..\n",
      "75   24    209     20  7   59      0    375   1   3\n",
      "76   24    124     99  7   10      0     58   3   3\n",
      "77   24    123     88  7    9      0   2.04  4    6\n",
      "78   24    122     94  7   28      0   1384   2   2\n",
      "79   24    314    393  7  337      0   5242   4   1\n",
      "\n",
      "[80 rows x 9 columns]\n"
     ]
    }
   ],
   "source": [
    "conn = mysql.connector.connect(host='localhost',\n",
    "                                 database='waterquality',\n",
    "                                 user='root',\n",
    "                                 password='',\n",
    "                                 charset='utf8',\n",
    "                                 use_unicode=True)\n",
    "         \n",
    "if conn.is_connected():\n",
    "    # get records training\n",
    "    sql_select_Query = '''SELECT `Suhu (C)` as suhu,`Zat padat terlarut (TDS) mg/L` as zt_tds, `Zat padat tersuspensi (TSS) mg/L` as zt_tss,`pH` as ph,`COD (dichromat) mg/L` as cod,`Nitrat mg/L` as nitrat,`Minyak dan Lemak Âµg/L` as minyak,`Bakteri Koli Jml/100 mL`as bk,`Bakteri Koli Tinja Jml/100 mL` as bkt FROM `waterquality_jakarta_training`\n",
    "                             WHERE `periode` = '2018-1' \n",
    "                             AND `Suhu (C)` != \"\"\n",
    "                             AND `Zat padat terlarut (TDS) mg/L` != \"\" \n",
    "                             AND `Zat padat tersuspensi (TSS) mg/L`!= \"\"\n",
    "                             AND `Nitrat mg/L` != \"\"\n",
    "                             AND `Minyak dan Lemak Âµg/L` != \"\"\n",
    "                             AND `Bakteri Koli Jml/100 mL` != \"\"\n",
    "                             AND `Bakteri Koli Tinja Jml/100 mL` != \"\" ;'''\n",
    "    cursor = conn.cursor(buffered=True, dictionary=True)\n",
    "    cursor.execute(sql_select_Query)        \n",
    "    data_training = cursor.fetchall()\n",
    "    #menampilkan data hasil select database\n",
    "    #print(data_training)\n",
    "    df = pd.DataFrame(data_training)\n",
    "    print(df)"
   ]
  },
  {
   "cell_type": "code",
   "execution_count": null,
   "id": "88e372c3",
   "metadata": {},
   "outputs": [],
   "source": []
  }
 ],
 "metadata": {
  "kernelspec": {
   "display_name": "Python 3 (ipykernel)",
   "language": "python",
   "name": "python3"
  },
  "language_info": {
   "codemirror_mode": {
    "name": "ipython",
    "version": 3
   },
   "file_extension": ".py",
   "mimetype": "text/x-python",
   "name": "python",
   "nbconvert_exporter": "python",
   "pygments_lexer": "ipython3",
   "version": "3.9.7"
  }
 },
 "nbformat": 4,
 "nbformat_minor": 5
}
